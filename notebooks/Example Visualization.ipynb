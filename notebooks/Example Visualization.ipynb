{
 "cells": [
  {
   "cell_type": "markdown",
   "id": "f6df8c89-5ae9-46f2-8d7d-56211b72af95",
   "metadata": {},
   "source": [
    "# Example Visualization SNM Dataset"
   ]
  },
  {
   "cell_type": "code",
   "execution_count": null,
   "id": "2118f342-7dac-4094-b1af-5a3865b4e60c",
   "metadata": {},
   "outputs": [],
   "source": [
    "import os\n",
    "import pandas as pd\n",
    "import matplotlib.pyplot as plt\n",
    "\n",
    "plt.rcParams[\"figure.figsize\"] = (15,5)"
   ]
  },
  {
   "cell_type": "code",
   "execution_count": null,
   "id": "9fff0192-def1-4d4b-bbc2-e8a131728921",
   "metadata": {},
   "outputs": [],
   "source": [
    "data_dir = 'data/data_clean_csv_to_hdf'\n",
    "building = 'building_01'\n",
    "appliance = 'boiler.h5'"
   ]
  },
  {
   "cell_type": "code",
   "execution_count": null,
   "id": "117069dd-be96-4cb3-8d33-f79f6f9a4e3d",
   "metadata": {},
   "outputs": [],
   "source": [
    "file_path = os.path.join(data_dir, building, appliance)\n",
    "df = pd.read_hdf(file_path, key='/data', mode='r')"
   ]
  },
  {
   "cell_type": "code",
   "execution_count": null,
   "id": "5bb123ea-81ff-41c4-886f-c9e1e0e79581",
   "metadata": {},
   "outputs": [],
   "source": [
    "df = df.iloc[100_000:200_000]"
   ]
  },
  {
   "cell_type": "code",
   "execution_count": null,
   "id": "eff4da37-3e20-4e3b-b399-e24e9db821c6",
   "metadata": {},
   "outputs": [],
   "source": [
    "plt.plot(df)\n",
    "plt.ylabel('Power [W]')\n",
    "plt.xticks(rotation=45, ha='right')\n",
    "plt.legend(df.columns)\n",
    "plt.show()"
   ]
  }
 ],
 "metadata": {
  "kernelspec": {
   "display_name": "Python 3 (ipykernel)",
   "language": "python",
   "name": "python3"
  },
  "language_info": {
   "codemirror_mode": {
    "name": "ipython",
    "version": 3
   },
   "file_extension": ".py",
   "mimetype": "text/x-python",
   "name": "python",
   "nbconvert_exporter": "python",
   "pygments_lexer": "ipython3",
   "version": "3.11.5"
  }
 },
 "nbformat": 4,
 "nbformat_minor": 5
}
